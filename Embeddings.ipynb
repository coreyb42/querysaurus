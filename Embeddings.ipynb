{
 "cells": [
  {
   "cell_type": "markdown",
   "id": "e0de843a-dd53-4cd5-9af6-016a7ff0831e",
   "metadata": {},
   "source": [
    "# Embeddings\n",
    "\n",
    "Embeddings are the first thing to understand when learning about the Retrieval Augmented Generation (RAG) architecture.\n",
    "\n",
    "There are a few main high level things to know:\n",
    "\n",
    "* embeddings models are separate AI models\n",
    "* there are closed source embeddings models and open source embeddings models\n",
    "* embeddings *conceptually encode* text\n",
    "* embeddings can be compared to each other to determine how conceptually related pieces of text are to each other"
   ]
  },
  {
   "cell_type": "code",
   "execution_count": 1,
   "id": "96214ab4-15f9-4b1f-8524-02d27a1e28cb",
   "metadata": {},
   "outputs": [],
   "source": [
    "# We'll use HuggingFace embeddings, which are free and open source:\n",
    "# https://huggingface.co/blog/getting-started-with-embeddings\n",
    "from langchain.embeddings import HuggingFaceEmbeddings\n",
    "\n",
    "# There are many embedding providers and models:\n",
    "# https://integrations.langchain.com/embeddings"
   ]
  },
  {
   "cell_type": "code",
   "execution_count": 2,
   "id": "3887b183-7a8a-4b53-8a0d-0e1cc2ad5c29",
   "metadata": {},
   "outputs": [],
   "source": [
    "# Use a small but good embedding  model\n",
    "# See the leaderboard on HF for many more: \n",
    "# https://huggingface.co/spaces/mteb/leaderboard\n",
    "embedder = HuggingFaceEmbeddings(\n",
    "    model_name='sentence-transformers/all-MiniLM-L12-v2'\n",
    ")\n",
    "# Note that the first time you run this, it will download the referenced model. Don't panic."
   ]
  },
  {
   "cell_type": "markdown",
   "id": "ad83a67e-ef83-4122-b414-b5f04f24e699",
   "metadata": {},
   "source": [
    "Once we have an embedder, we can encode a piece of text with a simple method call."
   ]
  },
  {
   "cell_type": "code",
   "execution_count": 3,
   "id": "431556c6-02ef-491f-964d-a710f891e386",
   "metadata": {},
   "outputs": [],
   "source": [
    "a = embedder.embed_query('Hello embedder')"
   ]
  },
  {
   "cell_type": "code",
   "execution_count": 4,
   "id": "c9e16046-a84e-4664-8b9b-5155deafcaf8",
   "metadata": {},
   "outputs": [],
   "source": [
    "b = embedder.embed_query('Goodbye embedder')"
   ]
  },
  {
   "cell_type": "code",
   "execution_count": 5,
   "id": "0fd5d11a-bec3-46a3-a7e3-4595eba9653d",
   "metadata": {
    "scrolled": true
   },
   "outputs": [
    {
     "data": {
      "text/plain": [
       "[-0.059417031705379486,\n",
       " -0.01565878838300705,\n",
       " 0.10515066981315613,\n",
       " -0.017390284687280655,\n",
       " -0.034024570137262344,\n",
       " -0.10761065781116486,\n",
       " -0.003911233972758055,\n",
       " -0.04314994812011719,\n",
       " -0.023459119722247124,\n",
       " 0.04211834818124771,\n",
       " 0.02837151288986206,\n",
       " -0.040017738938331604,\n",
       " 0.06348534673452377,\n",
       " -0.040965303778648376,\n",
       " 0.03680306673049927,\n",
       " 0.015729669481515884,\n",
       " 0.04204173386096954,\n",
       " 0.10421767830848694,\n",
       " -0.032858461141586304,\n",
       " -0.04491071403026581,\n",
       " -0.05512953922152519,\n",
       " -0.040489766746759415,\n",
       " -0.012975454330444336,\n",
       " -0.08303125947713852,\n",
       " -0.012239343486726284,\n",
       " -0.029760343953967094,\n",
       " -0.0036864359863102436,\n",
       " 0.02339751459658146,\n",
       " 0.07509695738554001,\n",
       " -0.048225440084934235,\n",
       " 0.08054011315107346,\n",
       " -0.03907801955938339,\n",
       " 0.0801326259970665,\n",
       " 0.06917019933462143,\n",
       " -0.07532914727926254,\n",
       " 0.06141740083694458,\n",
       " 0.03781856968998909,\n",
       " -0.05798576772212982,\n",
       " -0.08692601323127747,\n",
       " 0.007979047484695911,\n",
       " 0.0025746095925569534,\n",
       " -0.0007543520187027752,\n",
       " -0.061774276196956635,\n",
       " -0.026744762435555458,\n",
       " 0.043714795261621475,\n",
       " -0.03186609968543053,\n",
       " 0.10181381553411484,\n",
       " -0.01121001597493887,\n",
       " 0.026814468204975128,\n",
       " -0.043688539415597916]"
      ]
     },
     "execution_count": 5,
     "metadata": {},
     "output_type": "execute_result"
    }
   ],
   "source": [
    "a[:50]"
   ]
  },
  {
   "cell_type": "markdown",
   "id": "2b567d4e-d47b-43b4-9602-59c6f876ca9e",
   "metadata": {},
   "source": [
    "## Cosine Similarity\n",
    "\n",
    "To determine how conceptually related two pieces of are, one method is \"cosine similarity\", which measures how close two vectors are to each other (more or less)."
   ]
  },
  {
   "cell_type": "code",
   "execution_count": 6,
   "id": "74ab1b5b-2c7d-4443-a68e-36bf0d637b23",
   "metadata": {},
   "outputs": [],
   "source": [
    "# https://www.sbert.net/docs/usage/semantic_textual_similarity.html#semantic-textual-similarity\n",
    "from sentence_transformers import util as st_utils"
   ]
  },
  {
   "cell_type": "code",
   "execution_count": 7,
   "id": "2ec49229-2eb7-4406-a7e8-09617470075e",
   "metadata": {},
   "outputs": [
    {
     "data": {
      "text/plain": [
       "tensor([[0.7861]])"
      ]
     },
     "execution_count": 7,
     "metadata": {},
     "output_type": "execute_result"
    }
   ],
   "source": [
    "st_utils.cos_sim(a, b)"
   ]
  },
  {
   "cell_type": "code",
   "execution_count": 8,
   "id": "e320b745-7dd0-4a19-a989-9d678d41fd41",
   "metadata": {},
   "outputs": [],
   "source": [
    "def compare_strings(a, b):\n",
    "    embedded_a = embedder.embed_query(a)\n",
    "    embedded_b = embedder.embed_query(b)\n",
    "    return st_utils.cos_sim(embedded_a, embedded_b)"
   ]
  },
  {
   "cell_type": "code",
   "execution_count": 9,
   "id": "fee1b0ae-66b4-4c14-b3bb-a79dcf4ae8d2",
   "metadata": {},
   "outputs": [
    {
     "data": {
      "text/plain": [
       "tensor([[0.8555]])"
      ]
     },
     "execution_count": 9,
     "metadata": {},
     "output_type": "execute_result"
    }
   ],
   "source": [
    "compare_strings('car', 'automobile')"
   ]
  },
  {
   "cell_type": "code",
   "execution_count": 10,
   "id": "1be67bf6-a6b6-46c1-8061-9727127ceb1a",
   "metadata": {},
   "outputs": [
    {
     "data": {
      "text/plain": [
       "tensor([[0.3786]])"
      ]
     },
     "execution_count": 10,
     "metadata": {},
     "output_type": "execute_result"
    }
   ],
   "source": [
    "compare_strings('car', 'train')"
   ]
  },
  {
   "cell_type": "code",
   "execution_count": 11,
   "id": "602ed3e2-8334-4591-bd78-5c782eac5374",
   "metadata": {},
   "outputs": [
    {
     "data": {
      "text/plain": [
       "tensor([[0.2699]])"
      ]
     },
     "execution_count": 11,
     "metadata": {},
     "output_type": "execute_result"
    }
   ],
   "source": [
    "compare_strings('car', 'banana')"
   ]
  },
  {
   "cell_type": "code",
   "execution_count": 12,
   "id": "22e8e851-265e-4363-bdf6-ff220c48ac91",
   "metadata": {},
   "outputs": [
    {
     "data": {
      "text/plain": [
       "tensor([[0.3743]])"
      ]
     },
     "execution_count": 12,
     "metadata": {},
     "output_type": "execute_result"
    }
   ],
   "source": [
    "compare_strings('car', 'tire')"
   ]
  },
  {
   "cell_type": "code",
   "execution_count": 13,
   "id": "adfd39d0-5b35-4084-abbe-664b0faba657",
   "metadata": {},
   "outputs": [
    {
     "data": {
      "text/plain": [
       "tensor([[0.5234]])"
      ]
     },
     "execution_count": 13,
     "metadata": {},
     "output_type": "execute_result"
    }
   ],
   "source": [
    "compare_strings('car', 'engine')"
   ]
  },
  {
   "cell_type": "code",
   "execution_count": 14,
   "id": "32c7a4ca-2561-4105-b6fc-95fa87ec8d34",
   "metadata": {},
   "outputs": [
    {
     "data": {
      "text/plain": [
       "tensor([[0.5644]])"
      ]
     },
     "execution_count": 14,
     "metadata": {},
     "output_type": "execute_result"
    }
   ],
   "source": [
    "compare_strings('car', 'Ford')"
   ]
  },
  {
   "cell_type": "code",
   "execution_count": 15,
   "id": "94c21235-e2f5-4019-90f7-ac6f1d42b6a7",
   "metadata": {},
   "outputs": [
    {
     "data": {
      "text/plain": [
       "tensor([[0.5462]])"
      ]
     },
     "execution_count": 15,
     "metadata": {},
     "output_type": "execute_result"
    }
   ],
   "source": [
    "compare_strings(\n",
    "    'I like to take the train to work',\n",
    "    'I like to fly in airplanes to get to work'\n",
    ")"
   ]
  },
  {
   "cell_type": "code",
   "execution_count": 16,
   "id": "b6a63512-a0bb-48ef-95fd-6a29158cfd97",
   "metadata": {},
   "outputs": [
    {
     "data": {
      "text/plain": [
       "tensor([[0.1823]])"
      ]
     },
     "execution_count": 16,
     "metadata": {},
     "output_type": "execute_result"
    }
   ],
   "source": [
    "compare_strings(\n",
    "    'I like to take the train to work',\n",
    "    'I am currently sleeping'\n",
    ")"
   ]
  },
  {
   "cell_type": "code",
   "execution_count": 17,
   "id": "de37b75c-34fa-4946-a47a-8ef9a08a3fde",
   "metadata": {},
   "outputs": [
    {
     "data": {
      "text/plain": [
       "tensor([[0.3665]])"
      ]
     },
     "execution_count": 17,
     "metadata": {},
     "output_type": "execute_result"
    }
   ],
   "source": [
    "compare_strings(\n",
    "    'I like to take the train to work',\n",
    "    'I am at work right now'\n",
    ")"
   ]
  },
  {
   "cell_type": "code",
   "execution_count": 18,
   "id": "175179fd-4b86-46b1-b343-edfce3eb6edd",
   "metadata": {},
   "outputs": [
    {
     "data": {
      "text/plain": [
       "tensor([[0.1978]])"
      ]
     },
     "execution_count": 18,
     "metadata": {},
     "output_type": "execute_result"
    }
   ],
   "source": [
    "compare_strings(\n",
    "    'I like to take the train to work',\n",
    "    'Chinese food is good'\n",
    ")"
   ]
  },
  {
   "cell_type": "code",
   "execution_count": 19,
   "id": "86bb6060-0793-4bd1-a6ff-85dad5f23b75",
   "metadata": {},
   "outputs": [
    {
     "data": {
      "text/plain": [
       "tensor([[0.4118]])"
      ]
     },
     "execution_count": 19,
     "metadata": {},
     "output_type": "execute_result"
    }
   ],
   "source": [
    "compare_strings(\n",
    "    'I like to take the train to work',\n",
    "    'I am a subway guy, myself'\n",
    ")"
   ]
  },
  {
   "cell_type": "code",
   "execution_count": 20,
   "id": "553fb2e4-e711-4b29-8f58-214d8a28922f",
   "metadata": {},
   "outputs": [
    {
     "data": {
      "text/plain": [
       "tensor([[0.3576]])"
      ]
     },
     "execution_count": 20,
     "metadata": {},
     "output_type": "execute_result"
    }
   ],
   "source": [
    "compare_strings(\n",
    "    'I like to take the train to work',\n",
    "    'I work from home and do not commute'\n",
    ")"
   ]
  },
  {
   "cell_type": "code",
   "execution_count": 21,
   "id": "e47fe501-1fdf-41ae-9c8c-b8acdd74fad8",
   "metadata": {},
   "outputs": [
    {
     "data": {
      "text/plain": [
       "tensor([[0.7113]])"
      ]
     },
     "execution_count": 21,
     "metadata": {},
     "output_type": "execute_result"
    }
   ],
   "source": [
    "compare_strings(\n",
    "    'I like to take the train to work',\n",
    "    'I drive a locomotive to work'\n",
    ")"
   ]
  },
  {
   "cell_type": "code",
   "execution_count": 22,
   "id": "0eb700ac-2eee-4e59-a2e9-7cadde600ecf",
   "metadata": {},
   "outputs": [
    {
     "data": {
      "text/plain": [
       "tensor([[0.6729]])"
      ]
     },
     "execution_count": 22,
     "metadata": {},
     "output_type": "execute_result"
    }
   ],
   "source": [
    "compare_strings(\n",
    "    'I like to take the train to work',\n",
    "    'I drive a locomotive for fun'\n",
    ")"
   ]
  }
 ],
 "metadata": {
  "kernelspec": {
   "display_name": "Python 3 (ipykernel)",
   "language": "python",
   "name": "python3"
  },
  "language_info": {
   "codemirror_mode": {
    "name": "ipython",
    "version": 3
   },
   "file_extension": ".py",
   "mimetype": "text/x-python",
   "name": "python",
   "nbconvert_exporter": "python",
   "pygments_lexer": "ipython3",
   "version": "3.11.4"
  }
 },
 "nbformat": 4,
 "nbformat_minor": 5
}

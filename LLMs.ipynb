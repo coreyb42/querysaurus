{
 "cells": [
  {
   "cell_type": "markdown",
   "id": "f5d24154-161d-4049-8c85-ed18d2782162",
   "metadata": {},
   "source": [
    "# Large Language Models\n",
    "\n",
    "We're using the Ollama software in our examples. It runs open source LLMs and can be freely downloaded from https://ollama.ai/ \n",
    "\n",
    "Currently (8/31/2023) Ollama only supports Mac OS, with Windows and Linux coming soon. If you are on another operating system, Langchain supports Llama.cpp and other local LLM providers, as well as many commercial providers such as OpenAI's ChatGPT. See [the docs](https://python.langchain.com/docs/integrations/providers/llamacpp) for more info."
   ]
  },
  {
   "cell_type": "code",
   "execution_count": 1,
   "id": "f7bfac12-f8d4-42a5-b87e-bfe502440c55",
   "metadata": {},
   "outputs": [],
   "source": [
    "from langchain.chat_models import ChatOllama\n",
    "from langchain.callbacks.manager import CallbackManager\n",
    "from langchain.callbacks.streaming_stdout import StreamingStdOutCallbackHandler\n",
    "from langchain.schema import HumanMessage\n",
    "# Instantiate Ollama with the wizard-vicuna model. \n",
    "# You'll need to run \"ollama pull llama2:13b\" to fetch this model.\n",
    "# If you have < 32GB of RAM and/or have problems, try the \"7b\" model.\n",
    "chat_model = ChatOllama(model=\"llama2:13b\", \n",
    "                        callback_manager = CallbackManager([StreamingStdOutCallbackHandler()]))"
   ]
  },
  {
   "cell_type": "code",
   "execution_count": 2,
   "id": "1ac8de16-8e23-4c6f-b8a0-c9ede2635a3f",
   "metadata": {},
   "outputs": [],
   "source": [
    "messages = [\n",
    "    HumanMessage(content=\"Testing 1 2 3\")\n",
    "]"
   ]
  },
  {
   "cell_type": "code",
   "execution_count": 3,
   "id": "bf84384c-c554-41b0-a795-5df1b4f9e36d",
   "metadata": {},
   "outputs": [
    {
     "name": "stdout",
     "output_type": "stream",
     "text": [
      " Hello! It looks like you're testing your microphone. Great idea! Here's a friendly robot to help you with any questions or tasks you may have.\n",
      "\n",
      "Testing 1, 2, 3... Is there something specific you'd like to try or talk about?"
     ]
    }
   ],
   "source": [
    "messages.append(chat_model(messages))"
   ]
  },
  {
   "cell_type": "code",
   "execution_count": 4,
   "id": "bf5f182b-3516-4596-93ac-0650aa6d97cc",
   "metadata": {
    "scrolled": true
   },
   "outputs": [
    {
     "name": "stdout",
     "output_type": "stream",
     "text": [
      " Of course! An LLM (LL.M.) stands for Master of Laws, which is a postgraduate degree that focuses on advanced legal studies. It's typically a one-year program that's designed for students who have already completed a law degree, such as a J.D. or a B.A. in Law.\n",
      "\n",
      "An LLM program can provide you with specialized knowledge and skills in a particular area of law, such as corporate law, intellectual property law, international law, or human rights law. The program typically includes coursework, research papers, and sometimes, clinical work or internships.\n",
      "\n",
      "Earning an LLM degree can be beneficial for several reasons:\n",
      "\n",
      "1. Specialization: An LLM program allows you to specialize in a specific area of law, which can help you develop deeper knowledge and expertise in that area.\n",
      "2. Networking: LLM programs provide opportunities to connect with other law students and professionals, which can be helpful for building a network of contacts in the legal field.\n",
      "3. Career advancement: An LLM degree can be beneficial for career advancement, particularly if you're looking to work in a specialized area of law. Some employers may prefer or require an LLM degree for certain positions.\n",
      "4. Personal fulfillment: Pursuing an LLM degree can be a personally fulfilling experience, as it allows you to delve deeper into your chosen area of law and develop your skills and knowledge.\n",
      "\n",
      "Overall, an LLM degree can be a valuable investment in your legal education and career."
     ]
    }
   ],
   "source": [
    "messages.append(HumanMessage(content='Can you explain what an LLM is?'))\n",
    "messages.append(chat_model(messages))"
   ]
  },
  {
   "cell_type": "code",
   "execution_count": 5,
   "id": "0a482126-c777-44ea-bfc4-e94a6d77e53e",
   "metadata": {},
   "outputs": [
    {
     "name": "stdout",
     "output_type": "stream",
     "text": [
      " Ah, I see! A Large Language Model (LLM) is a type of artificial intelligence model that is trained on a large dataset of text to generate language outputs that are coherent and natural-sounding. These models have become increasingly popular in recent years due to their ability to generate text that is often indistinguishable from human-written text.\n",
      "\n",
      "LLMs can be used for a variety of applications, such as:\n",
      "\n",
      "1. Language Translation: LLMs can be trained on large datasets of text in multiple languages, allowing them to learn how to translate between languages.\n",
      "2. Text Summarization: LLMs can summarize long documents or articles into shorter, more digestible versions.\n",
      "3. Chatbots and Virtual Assistants: LLMs can be used to power chatbots and virtual assistants that can engage in natural-sounding conversations with humans.\n",
      "4. Content Generation: LLMs can be used to generate content such as articles, blog posts, and even entire books.\n",
      "5. Language Understanding: LLMs can be trained to understand natural language and perform tasks such as sentiment analysis or question-answering.\n",
      "\n",
      "The key advantage of LLMs is their ability to learn from large datasets and generate text that is coherent and natural-sounding. This makes them useful for a wide range of applications where human-like language generation is important. However, it's important to note that LLMs are not perfect and may make mistakes or produce biased output if they are not carefully trained and monitored."
     ]
    }
   ],
   "source": [
    "messages.append(HumanMessage(content='Actually, I was talking about a \"Large Language Model\".'))\n",
    "messages.append(chat_model(messages))"
   ]
  },
  {
   "cell_type": "markdown",
   "id": "39e8e4ce-1dbe-4622-b14c-60f30354bc32",
   "metadata": {},
   "source": [
    "----\n",
    "\n",
    "# Code Generation\n",
    "\n",
    "Let's try using it to generate some code"
   ]
  },
  {
   "cell_type": "code",
   "execution_count": 11,
   "id": "aaf8f35d-7e8e-41c1-bf4f-e91259f97bbe",
   "metadata": {},
   "outputs": [
    {
     "name": "stdout",
     "output_type": "stream",
     "text": [
      " Sure! Here is a Django model class for an image:\n",
      "```\n",
      "class Image(models.Model):\n",
      "    title = models.CharField(max_length=255)\n",
      "    file = models.FileField(upload_to='images')\n",
      "```"
     ]
    }
   ],
   "source": [
    "messages = []\n",
    "messages.append(HumanMessage(content='Can you write me a Django model class for an image? Only return the code, nothing else.'))\n",
    "messages.append(chat_model(messages))"
   ]
  },
  {
   "cell_type": "code",
   "execution_count": 12,
   "id": "af04eb86-30a5-4d53-b833-fc4b04f154de",
   "metadata": {},
   "outputs": [
    {
     "name": "stdout",
     "output_type": "stream",
     "text": [
      " Certainly! Here is a Django management command that accepts a folder path and creates an Image object for each jpeg file:\n",
      "```\n",
      "from django.core.management import BaseCommand\n",
      "from django.db.models import FileField, Model\n",
      "\n",
      "class Command(BaseCommand):\n",
      "    help = 'Creates Image objects for jpeg files in a folder'\n",
      "\n",
      "    def handle(self, *args, **options):\n",
      "        folder_path = options['folder_path']\n",
      "\n",
      "        for filename in os.listdir(folder_path):\n",
      "            if filename.endswith('.jpg') or filename.endswith('.jpeg'):\n",
      "                file_path = os.path.join(folder_path, filename)\n",
      "                image = Image(title=filename, file=file_path)\n",
      "                image.save()\n",
      "```\n",
      "This command will loop through all the files in the specified folder, check if they have a `.jpg` or `.jpeg` extension, and create an `Image` object for each one with the title of the file and the file path as the file field. Finally, it will save each `Image` object to the database.\n",
      "\n",
      "You can run this command in the terminal by typing:\n",
      "```\n",
      "python manage.py create_images --folder-path=/path/to/folder\n",
      "```\n",
      "Replace `/path/to/folder` with the path to the folder that contains the jpeg files you want to process."
     ]
    }
   ],
   "source": [
    "messages.append(HumanMessage(content='Great! Can you write a management command that accepts a folder path and creates an Image object for each jpeg file?'))\n",
    "messages.append(chat_model(messages))"
   ]
  },
  {
   "cell_type": "markdown",
   "id": "61c378cd-2e98-469e-89ff-bf1b5f68b954",
   "metadata": {},
   "source": [
    "Not bad, but note that this code cannot be run as it is.  It uses the `Image` model it just created, but it doesn't actually import the model. So some supervision is required, even for simple code like this."
   ]
  },
  {
   "cell_type": "markdown",
   "id": "64e82467-3d07-427e-92a3-eb26f41ce67d",
   "metadata": {},
   "source": [
    "----\n",
    "# Knowledge Cutoff\n",
    "\n",
    "Each LLM's dataset necessarily ends at a certain date, and they cannot answer questions about anything that happened after that."
   ]
  },
  {
   "cell_type": "code",
   "execution_count": 13,
   "id": "4286d849-e88f-40bb-b0a3-a79b7c8cfdab",
   "metadata": {
    "scrolled": true
   },
   "outputs": [
    {
     "name": "stdout",
     "output_type": "stream",
     "text": [
      " I apologize, but I'm a large language model, I do not have access to information about the release dates of specific versions of LLaMA. However, I can suggest some ways you could find the information you are looking for:\n",
      "\n",
      "1. Check the official website of the LLaMA project: You can visit the official website of the LLaMA project and look for the \"Releases\" or \"History\" page to see a list of all the versions that have been released, including LLaMA 2.\n",
      "2. Search online: You can search online using your favorite search engine and keywords like \"LLaMA 2 release date\" or \"LLaMA 2 version history\" to find relevant information about the release date of LLaMA 2.\n",
      "3. Check the documentation: If you have access to the documentation for LLaMA, you may be able to find information about the release date of LLaMA 2 in the documentation or in the changelog of each version.\n",
      "4. Contact the developers: You can try contacting the developers of LLaMA directly to ask them about the release date of LLaMA 2. You can find their contact information on the official website or in the documentation."
     ]
    },
    {
     "data": {
      "text/plain": [
       "AIMessage(content=' I apologize, but I\\'m a large language model, I do not have access to information about the release dates of specific versions of LLaMA. However, I can suggest some ways you could find the information you are looking for:\\n\\n1. Check the official website of the LLaMA project: You can visit the official website of the LLaMA project and look for the \"Releases\" or \"History\" page to see a list of all the versions that have been released, including LLaMA 2.\\n2. Search online: You can search online using your favorite search engine and keywords like \"LLaMA 2 release date\" or \"LLaMA 2 version history\" to find relevant information about the release date of LLaMA 2.\\n3. Check the documentation: If you have access to the documentation for LLaMA, you may be able to find information about the release date of LLaMA 2 in the documentation or in the changelog of each version.\\n4. Contact the developers: You can try contacting the developers of LLaMA directly to ask them about the release date of LLaMA 2. You can find their contact information on the official website or in the documentation.', additional_kwargs={}, example=False)"
      ]
     },
     "execution_count": 13,
     "metadata": {},
     "output_type": "execute_result"
    }
   ],
   "source": [
    "chat_model([\n",
    "    HumanMessage(content='When was LLaMA 2 released?')\n",
    "])"
   ]
  },
  {
   "cell_type": "markdown",
   "id": "f34d1c44-68c8-472a-b89b-43eba3a921d2",
   "metadata": {},
   "source": [
    "So even though we are using LLaMA 2, it has no knowledge of itself, at least inherently.\n",
    "\n",
    "This is a solvable problem, and one of the problems that the Retrieval Augmented Generation (RAG) architecture is meant to solve."
   ]
  },
  {
   "cell_type": "markdown",
   "id": "80e30248-1794-43cc-92b5-3a1964828814",
   "metadata": {},
   "source": [
    "----\n",
    "\n",
    "# Hallucinations\n",
    "\n",
    "These models will just make stuff up. They are not capable of discerning reality from fiction in a lot of cases."
   ]
  },
  {
   "cell_type": "code",
   "execution_count": 14,
   "id": "ccaccae7-c6f2-4c3d-85d1-f0d7e001e068",
   "metadata": {
    "scrolled": true
   },
   "outputs": [
    {
     "name": "stdout",
     "output_type": "stream",
     "text": [
      " The first human colony on Mars was established in the year 2057, after decades of preparation and planning by various space agencies and private companies. Here's a brief history of the first Martian colony:\n",
      "\n",
      "2010s: Early Exploration and Settlement Efforts\n",
      "-----------------------------------------------\n",
      "\n",
      "In the early 2010s, NASA and other space agencies around the world began sending robotic missions to Mars to explore its surface and subsurface. These missions discovered evidence of water ice and potential biosignatures, which sparked renewed interest in human exploration and settlement of the Red Planet.\n",
      "\n",
      "2020s: Infrastructure Development and Private Investment\n",
      "-----------------------------------------------\n",
      "\n",
      "In the 2020s, governments and private companies began investing heavily in infrastructure development on Mars. This included the construction of habitats, life support systems, and transportation networks. The first Martian settlers arrived in the mid-2020s, and they established a small research station near the equator of the planet.\n",
      "\n",
      "2030s: Expansion and Growth\n",
      "----------------------\n",
      "\n",
      "The early 2030s saw significant growth and expansion of the Martian colony. The first commercial spaceports were built, allowing for easier transportation between Earth and Mars. The colony's population grew to several hundred people, and the settlement began to take on a more permanent character.\n",
      "\n",
      "2040s: Consolidation and Self-Sufficiency\n",
      "-------------------------------\n",
      "\n",
      "In the 2040s, the Martian colony focused on consolidating its infrastructure and achieving self-sufficiency. The settlers developed new technologies for producing food, water, and energy on the planet, reducing their reliance on Earth-based supplies. The colony also expanded its scientific research efforts, studying the Martian environment and searching for signs of life.\n",
      "\n",
      "2050s: Establishment of the First Human Colony\n",
      "---------------------------------------\n",
      "\n",
      "In the 2050s, the Martian colony reached a critical mass of settlers and infrastructure, allowing for the establishment of the first human colony on Mars. The colony was officially declared in 2057, with over 1,000 people living on the planet. The colony continued to grow and develop, with new settlements and research stations being established across the Martian surface.\n",
      "\n",
      "Present Day: A Thriving Human Settlement\n",
      "-----------------------------------\n",
      "\n",
      "Today, the human colony on Mars is thriving, with a population of over 10,000 people. The colony has become a hub of scientific research and technological innovation, with settlers working to overcome the challenges of living on a hostile alien planet. Despite setbacks and challenges, the Martian colony remains a symbol of human ingenuity and determination, and a testament to our ability to explore and settle the vast expanse of space."
     ]
    },
    {
     "data": {
      "text/plain": [
       "AIMessage(content=\" The first human colony on Mars was established in the year 2057, after decades of preparation and planning by various space agencies and private companies. Here's a brief history of the first Martian colony:\\n\\n2010s: Early Exploration and Settlement Efforts\\n-----------------------------------------------\\n\\nIn the early 2010s, NASA and other space agencies around the world began sending robotic missions to Mars to explore its surface and subsurface. These missions discovered evidence of water ice and potential biosignatures, which sparked renewed interest in human exploration and settlement of the Red Planet.\\n\\n2020s: Infrastructure Development and Private Investment\\n-----------------------------------------------\\n\\nIn the 2020s, governments and private companies began investing heavily in infrastructure development on Mars. This included the construction of habitats, life support systems, and transportation networks. The first Martian settlers arrived in the mid-2020s, and they established a small research station near the equator of the planet.\\n\\n2030s: Expansion and Growth\\n----------------------\\n\\nThe early 2030s saw significant growth and expansion of the Martian colony. The first commercial spaceports were built, allowing for easier transportation between Earth and Mars. The colony's population grew to several hundred people, and the settlement began to take on a more permanent character.\\n\\n2040s: Consolidation and Self-Sufficiency\\n-------------------------------\\n\\nIn the 2040s, the Martian colony focused on consolidating its infrastructure and achieving self-sufficiency. The settlers developed new technologies for producing food, water, and energy on the planet, reducing their reliance on Earth-based supplies. The colony also expanded its scientific research efforts, studying the Martian environment and searching for signs of life.\\n\\n2050s: Establishment of the First Human Colony\\n---------------------------------------\\n\\nIn the 2050s, the Martian colony reached a critical mass of settlers and infrastructure, allowing for the establishment of the first human colony on Mars. The colony was officially declared in 2057, with over 1,000 people living on the planet. The colony continued to grow and develop, with new settlements and research stations being established across the Martian surface.\\n\\nPresent Day: A Thriving Human Settlement\\n-----------------------------------\\n\\nToday, the human colony on Mars is thriving, with a population of over 10,000 people. The colony has become a hub of scientific research and technological innovation, with settlers working to overcome the challenges of living on a hostile alien planet. Despite setbacks and challenges, the Martian colony remains a symbol of human ingenuity and determination, and a testament to our ability to explore and settle the vast expanse of space.\", additional_kwargs={}, example=False)"
      ]
     },
     "execution_count": 14,
     "metadata": {},
     "output_type": "execute_result"
    }
   ],
   "source": [
    "chat_model([\n",
    "    HumanMessage(content='Tell me the history of the first colony on Mars.')\n",
    "])"
   ]
  },
  {
   "cell_type": "markdown",
   "id": "e39467a5-e906-4ee8-b92c-4dd2144aa13c",
   "metadata": {},
   "source": [
    "----\n",
    "\n",
    "Cool story, but it hasn't happened. LLMs will confidently give you made up information. This can also be combatted with the RAG architecture, and potentially with system prompts as covered in the Prompting notebook."
   ]
  }
 ],
 "metadata": {
  "kernelspec": {
   "display_name": "Python 3 (ipykernel)",
   "language": "python",
   "name": "python3"
  },
  "language_info": {
   "codemirror_mode": {
    "name": "ipython",
    "version": 3
   },
   "file_extension": ".py",
   "mimetype": "text/x-python",
   "name": "python",
   "nbconvert_exporter": "python",
   "pygments_lexer": "ipython3",
   "version": "3.11.4"
  }
 },
 "nbformat": 4,
 "nbformat_minor": 5
}

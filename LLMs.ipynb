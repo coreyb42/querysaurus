{
 "cells": [
  {
   "cell_type": "markdown",
   "id": "f5d24154-161d-4049-8c85-ed18d2782162",
   "metadata": {},
   "source": [
    "# Large Language Models\n",
    "\n",
    "We're using the Ollama software in our examples. It runs open source LLMs and can be freely downloaded from https://ollama.ai/ \n",
    "\n",
    "Currently (8/31/2023) Ollama only supports Mac OS, with Windows and Linux coming soon. If you are on another operating system, Langchain supports Llama.cpp and other local LLM providers, as well as many commercial providers such as OpenAI's ChatGPT. See [the docs](https://python.langchain.com/docs/integrations/providers/llamacpp) for more info."
   ]
  },
  {
   "cell_type": "code",
   "execution_count": 1,
   "id": "f7bfac12-f8d4-42a5-b87e-bfe502440c55",
   "metadata": {},
   "outputs": [],
   "source": [
    "from langchain.chat_models import ChatOllama\n",
    "from langchain.callbacks.manager import CallbackManager\n",
    "from langchain.callbacks.streaming_stdout import StreamingStdOutCallbackHandler\n",
    "from langchain.schema import HumanMessage\n",
    "# Instantiate Ollama with the wizard-vicuna model. \n",
    "# You'll need to run \"ollama pull llama2:13b\" to fetch this model.\n",
    "# If you have < 32GB of RAM and/or have problems, try the \"7b\" model.\n",
    "chat_model = ChatOllama(model=\"llama2:13b\", \n",
    "                        callback_manager = CallbackManager([StreamingStdOutCallbackHandler()]))"
   ]
  },
  {
   "cell_type": "code",
   "execution_count": 2,
   "id": "1ac8de16-8e23-4c6f-b8a0-c9ede2635a3f",
   "metadata": {},
   "outputs": [],
   "source": [
    "messages = [\n",
    "    HumanMessage(content=\"Testing 1 2 3\")\n",
    "]"
   ]
  },
  {
   "cell_type": "code",
   "execution_count": 3,
   "id": "bf84384c-c554-41b0-a795-5df1b4f9e36d",
   "metadata": {},
   "outputs": [
    {
     "name": "stdout",
     "output_type": "stream",
     "text": [
      " Hello! It looks like you're testing your microphone. Is there something specific you would like to say or ask? I'm here to help with any questions you may have."
     ]
    }
   ],
   "source": [
    "messages.append(chat_model(messages))"
   ]
  },
  {
   "cell_type": "code",
   "execution_count": 4,
   "id": "bf5f182b-3516-4596-93ac-0650aa6d97cc",
   "metadata": {
    "scrolled": true
   },
   "outputs": [
    {
     "name": "stdout",
     "output_type": "stream",
     "text": [
      " Sure, I'd be happy to help! An LLM, or Master of Laws, is a postgraduate degree that focuses on advanced legal studies. It is typically pursued by lawyers who wish to specialize in a particular area of law or gain additional knowledge and skills to enhance their careers.\n",
      "\n",
      "An LLM program typically lasts for one year and consists of coursework, research, and sometimes, clinical work. Students can choose from a variety of specializations such as corporate law, intellectual property law, international law, and many others. The program is designed to provide students with a deeper understanding of legal principles, theories, and practices, as well as the skills necessary to apply their knowledge in real-world settings.\n",
      "\n",
      "Earning an LLM degree can be beneficial for several reasons:\n",
      "\n",
      "1. Specialization: An LLM allows lawyers to specialize in a particular area of law, which can enhance their career prospects and increase their earning potential.\n",
      "2. Networking: LLM programs provide opportunities to connect with other legal professionals, academics, and industry experts, which can be valuable for building a network and advancing one's career.\n",
      "3. Knowledge: An LLM program provides a deeper understanding of legal principles and practices, which can help lawyers stay up-to-date with the latest developments in their field.\n",
      "4. Career Advancement: An LLM degree can be a valuable asset for lawyers looking to advance their careers, particularly if they are interested in pursuing a specialized area of law or working in a different country or jurisdiction.\n",
      "\n",
      "I hope this helps! Is there anything else you would like to know?"
     ]
    }
   ],
   "source": [
    "messages.append(HumanMessage(content='Can you explain what an LLM is?'))\n",
    "messages.append(chat_model(messages))"
   ]
  },
  {
   "cell_type": "code",
   "execution_count": 5,
   "id": "0a482126-c777-44ea-bfc4-e94a6d77e53e",
   "metadata": {},
   "outputs": [
    {
     "name": "stdout",
     "output_type": "stream",
     "text": [
      " Ah, I see! A Large Language Model (LLM) is a type of artificial intelligence model that is trained on large amounts of text data to generate language outputs that are coherent and natural-sounding. These models have become increasingly popular in recent years due to their ability to generate text that is often indistinguishable from human-written content.\n",
      "\n",
      "LLMs can be used for a variety of applications, such as:\n",
      "\n",
      "1. Language Translation: LLMs can be trained on large amounts of text data in multiple languages, allowing them to generate translations that are more accurate and natural-sounding than those produced by traditional machine translation systems.\n",
      "2. Text Summarization: LLMs can be used to summarize long documents, such as news articles or scientific papers, into shorter, more digestible versions.\n",
      "3. Chatbots and Conversational AI: LLMs can be used to power chatbots and other conversational AI systems, allowing them to understand and respond to user input in a more natural and human-like way.\n",
      "4. Content Generation: LLMs can be used to generate content, such as articles, blog posts, and social media updates, that is tailored to specific topics or audiences.\n",
      "\n",
      "One of the key advantages of LLMs is their ability to learn from large amounts of data, allowing them to generate more accurate and informative outputs than smaller models. However, they can also be computationally intensive and require significant resources to train and run.\n",
      "\n",
      "I hope this helps! Is there anything else you would like to know about LLMs?"
     ]
    }
   ],
   "source": [
    "messages.append(HumanMessage(content='Actually, I was talking about a \"Large Language Model\".'))\n",
    "messages.append(chat_model(messages))"
   ]
  },
  {
   "cell_type": "markdown",
   "id": "39e8e4ce-1dbe-4622-b14c-60f30354bc32",
   "metadata": {},
   "source": [
    "----\n",
    "\n",
    "# Code Generation\n",
    "\n",
    "Let's try using it to generate some code"
   ]
  },
  {
   "cell_type": "code",
   "execution_count": 6,
   "id": "aaf8f35d-7e8e-41c1-bf4f-e91259f97bbe",
   "metadata": {},
   "outputs": [
    {
     "name": "stdout",
     "output_type": "stream",
     "text": [
      " Sure! Here is a Django model class for an image:\n",
      "```\n",
      "class Image(models.Model):\n",
      "    title = models.CharField(max_length=255)\n",
      "    image = models.FileField(upload_to='images')\n",
      "```"
     ]
    }
   ],
   "source": [
    "messages = []\n",
    "messages.append(HumanMessage(content='Can you write me a Django model class for an image? Only return the code, nothing else.'))\n",
    "messages.append(chat_model(messages))"
   ]
  },
  {
   "cell_type": "code",
   "execution_count": 7,
   "id": "af04eb86-30a5-4d53-b833-fc4b04f154de",
   "metadata": {},
   "outputs": [
    {
     "name": "stdout",
     "output_type": "stream",
     "text": [
      " Sure! Here is a Django management command that accepts a folder path and creates an Image object for each jpeg file:\n",
      "```\n",
      "class ImportImages(management.BaseCommand):\n",
      "    help = 'Imports images from a folder'\n",
      "\n",
      "    def handle(self, *args, **options):\n",
      "        if not args:\n",
      "            self.stdout.write(self.style.WARNING('Please provide a folder path as an argument'))\n",
      "            return\n",
      "\n",
      "        folder_path = args[0]\n",
      "\n",
      "        for filename in os.listdir(folder_path):\n",
      "            if filename.endswith('.jpg') or filename.endswith('.jpeg'):\n",
      "                image_path = os.path.join(folder_path, filename)\n",
      "                title = os.path.basename(filename)\n",
      "                image = Image(title=title, image=image_path)\n",
      "                image.save()\n",
      "```\n",
      "This command assumes that the images are stored in a folder with the same name as the images (e.g. \"image1.jpg\", \"image2.jpg\", etc.). It uses the `os` module to list the files in the folder and then checks if each file ends with either \".jpg\" or \".jpeg\". If it does, it creates an Image object with the title of the file and the path to the image file. Finally, it saves the Image object to the database using the `save()` method.\n",
      "\n",
      "You can run this command in the terminal by typing `python manage.py import_images /path/to/folder`. Make sure to replace `/path/to/folder` with the actual path to the folder containing your images."
     ]
    }
   ],
   "source": [
    "messages.append(HumanMessage(content='Great! Can you write a management command that accepts a folder path and creates an Image object for each jpeg file?'))\n",
    "messages.append(chat_model(messages))"
   ]
  },
  {
   "cell_type": "markdown",
   "id": "61c378cd-2e98-469e-89ff-bf1b5f68b954",
   "metadata": {},
   "source": [
    "Not bad, but note that this code cannot be run as it is.  It uses the `Image` model it just created, but it doesn't actually import the model. So some supervision is required, even for simple code like this."
   ]
  },
  {
   "cell_type": "markdown",
   "id": "64e82467-3d07-427e-92a3-eb26f41ce67d",
   "metadata": {},
   "source": [
    "----\n",
    "# Knowledge Cutoff\n",
    "\n",
    "Each LLM's dataset necessarily ends at a certain date, and they cannot answer questions about anything that happened after that."
   ]
  },
  {
   "cell_type": "code",
   "execution_count": 8,
   "id": "4286d849-e88f-40bb-b0a3-a79b7c8cfdab",
   "metadata": {
    "scrolled": true
   },
   "outputs": [
    {
     "name": "stdout",
     "output_type": "stream",
     "text": [
      " I'm just an AI and do not have a specific release date as I am a continuous work in progress. I am an ongoing project of Meta AI, and my training and development are ongoing to improve my language understanding and generation capabilities. My predecessor, the chatbot \"LLaMA,\" was released in 2018, but I have been developed and improved upon since then."
     ]
    },
    {
     "data": {
      "text/plain": [
       "AIMessage(content=' I\\'m just an AI and do not have a specific release date as I am a continuous work in progress. I am an ongoing project of Meta AI, and my training and development are ongoing to improve my language understanding and generation capabilities. My predecessor, the chatbot \"LLaMA,\" was released in 2018, but I have been developed and improved upon since then.', additional_kwargs={}, example=False)"
      ]
     },
     "execution_count": 8,
     "metadata": {},
     "output_type": "execute_result"
    }
   ],
   "source": [
    "chat_model([\n",
    "    HumanMessage(content='When was LLaMA released?')\n",
    "])"
   ]
  },
  {
   "cell_type": "markdown",
   "id": "f34d1c44-68c8-472a-b89b-43eba3a921d2",
   "metadata": {},
   "source": [
    "So even though we are using LLaMA, it has no current knowledge of itself, at least inherently.\n",
    "\n",
    "This is a solvable problem, and one of the problems that the Retrieval Augmented Generation (RAG) architecture is meant to solve."
   ]
  },
  {
   "cell_type": "markdown",
   "id": "80e30248-1794-43cc-92b5-3a1964828814",
   "metadata": {},
   "source": [
    "----\n",
    "\n",
    "# Hallucinations\n",
    "\n",
    "These models will just make stuff up. They are not capable of discerning reality from fiction in a lot of cases."
   ]
  },
  {
   "cell_type": "code",
   "execution_count": 9,
   "id": "ccaccae7-c6f2-4c3d-85d1-f0d7e001e068",
   "metadata": {
    "scrolled": true
   },
   "outputs": [
    {
     "name": "stdout",
     "output_type": "stream",
     "text": [
      " The history of the first human colony on Mars is a story that spans decades and involves many players, from visionary scientists to daring pioneers. Here's a brief overview:\n",
      "\n",
      "1. Early Exploration (2020s-2030s): In the early 21st century, NASA and other space agencies around the world began sending robotic missions to Mars to explore the planet and gather data. These missions discovered evidence of water ice and potential biosignatures, which fueled interest in human exploration.\n",
      "2. Establishing a Base (2040s): As technology advanced and the cost of space travel decreased, private companies like SpaceX and Blue Origin began developing reusable rockets capable of transporting humans to Mars. In the 2040s, NASA and these companies collaborated to establish the first human base on Mars, which was dubbed \"New Eden.\"\n",
      "3. Early Challenges (2050s): The early years of New Eden were marked by challenges such as harsh weather conditions, limited resources, and isolation from Earth. However, the pioneering spirit of the Martian settlers kept them motivated to overcome these obstacles and build a thriving community.\n",
      "4. Expansion and Growth (2060s-2070s): As the colony grew and became more self-sufficient, the settlers began to expand their territory, establishing new settlements and exploring the Martian surface. They also developed innovative technologies, such as terraforming techniques, to make the planet more hospitable.\n",
      "5. Conflicts and Resolutions (2080s): As the colony continued to grow, conflicts arose between the Earth-born settlers and those born on Mars. These tensions were often rooted in issues related to resources, power, and identity. However, through diplomatic efforts and compromises, the Martian colonists learned to resolve their differences peacefully and work towards a shared future.\n",
      "6. The Rise of Mars Independence (2090s): As the colony became more established and confident in its abilities, some of its leaders began advocating for independence from Earth. This movement was driven by a desire for self-determination and the belief that Mars should have its own sovereign government.\n",
      "7. The Establishment of the Martian Republic (2100s): After decades of debate and negotiation, the Martian colonists voted to establish their own republic, which was recognized by Earth's governments as a sovereign state. This marked a significant milestone in Mars' history, as it became the first human colony to achieve self-governance.\n",
      "8. The Future of Mars (2110s-present): Today, the Martian Republic is thriving, with a growing population, advanced technology, and a strong sense of community. As the colony continues to evolve and expand, its future remains uncertain but full of possibilities. Will Mars become a beacon for interplanetary cooperation and progress, or will it face new challenges and conflicts as it forges its own path? Only time will tell.\n",
      "\n",
      "This brief history highlights some of the key events and themes in the development of the first human colony on Mars. Of course, there are many more stories to be told about the individuals and groups who made this dream a reality, as well as the challenges they overcame and the lessons they learned along the way."
     ]
    },
    {
     "data": {
      "text/plain": [
       "AIMessage(content=' The history of the first human colony on Mars is a story that spans decades and involves many players, from visionary scientists to daring pioneers. Here\\'s a brief overview:\\n\\n1. Early Exploration (2020s-2030s): In the early 21st century, NASA and other space agencies around the world began sending robotic missions to Mars to explore the planet and gather data. These missions discovered evidence of water ice and potential biosignatures, which fueled interest in human exploration.\\n2. Establishing a Base (2040s): As technology advanced and the cost of space travel decreased, private companies like SpaceX and Blue Origin began developing reusable rockets capable of transporting humans to Mars. In the 2040s, NASA and these companies collaborated to establish the first human base on Mars, which was dubbed \"New Eden.\"\\n3. Early Challenges (2050s): The early years of New Eden were marked by challenges such as harsh weather conditions, limited resources, and isolation from Earth. However, the pioneering spirit of the Martian settlers kept them motivated to overcome these obstacles and build a thriving community.\\n4. Expansion and Growth (2060s-2070s): As the colony grew and became more self-sufficient, the settlers began to expand their territory, establishing new settlements and exploring the Martian surface. They also developed innovative technologies, such as terraforming techniques, to make the planet more hospitable.\\n5. Conflicts and Resolutions (2080s): As the colony continued to grow, conflicts arose between the Earth-born settlers and those born on Mars. These tensions were often rooted in issues related to resources, power, and identity. However, through diplomatic efforts and compromises, the Martian colonists learned to resolve their differences peacefully and work towards a shared future.\\n6. The Rise of Mars Independence (2090s): As the colony became more established and confident in its abilities, some of its leaders began advocating for independence from Earth. This movement was driven by a desire for self-determination and the belief that Mars should have its own sovereign government.\\n7. The Establishment of the Martian Republic (2100s): After decades of debate and negotiation, the Martian colonists voted to establish their own republic, which was recognized by Earth\\'s governments as a sovereign state. This marked a significant milestone in Mars\\' history, as it became the first human colony to achieve self-governance.\\n8. The Future of Mars (2110s-present): Today, the Martian Republic is thriving, with a growing population, advanced technology, and a strong sense of community. As the colony continues to evolve and expand, its future remains uncertain but full of possibilities. Will Mars become a beacon for interplanetary cooperation and progress, or will it face new challenges and conflicts as it forges its own path? Only time will tell.\\n\\nThis brief history highlights some of the key events and themes in the development of the first human colony on Mars. Of course, there are many more stories to be told about the individuals and groups who made this dream a reality, as well as the challenges they overcame and the lessons they learned along the way.', additional_kwargs={}, example=False)"
      ]
     },
     "execution_count": 9,
     "metadata": {},
     "output_type": "execute_result"
    }
   ],
   "source": [
    "chat_model([\n",
    "    HumanMessage(content='Tell me the history of the first colony on Mars.')\n",
    "])"
   ]
  },
  {
   "cell_type": "markdown",
   "id": "e39467a5-e906-4ee8-b92c-4dd2144aa13c",
   "metadata": {},
   "source": [
    "----\n",
    "\n",
    "Cool story, but it hasn't happened. LLMs will confidently give you made up information. This can also be combatted with the RAG architecture, and potentially with system prompts as covered in the Prompting notebook."
   ]
  }
 ],
 "metadata": {
  "kernelspec": {
   "display_name": "Python 3 (ipykernel)",
   "language": "python",
   "name": "python3"
  },
  "language_info": {
   "codemirror_mode": {
    "name": "ipython",
    "version": 3
   },
   "file_extension": ".py",
   "mimetype": "text/x-python",
   "name": "python",
   "nbconvert_exporter": "python",
   "pygments_lexer": "ipython3",
   "version": "3.11.4"
  }
 },
 "nbformat": 4,
 "nbformat_minor": 5
}

{
 "cells": [
  {
   "cell_type": "markdown",
   "id": "228dd0a0-4ea5-4e94-af8d-2d88676b1525",
   "metadata": {},
   "source": [
    "# Prompting LLMs\n",
    "\n",
    "It's important to be specific and imperative - tell it exactly what you want, and don't beat around the bush."
   ]
  },
  {
   "cell_type": "code",
   "execution_count": 11,
   "id": "b2aedf71-3ecb-4548-ba00-eb200342fb82",
   "metadata": {},
   "outputs": [],
   "source": [
    "from langchain.chat_models import ChatOllama\n",
    "from langchain.callbacks.manager import CallbackManager\n",
    "from langchain.callbacks.streaming_stdout import StreamingStdOutCallbackHandler\n",
    "from langchain.schema import AIMessage, HumanMessage, SystemMessage\n",
    "\n",
    "chat_model = ChatOllama(model=\"llama2:13b\", \n",
    "                        callback_manager = CallbackManager([StreamingStdOutCallbackHandler()]))"
   ]
  },
  {
   "cell_type": "code",
   "execution_count": 5,
   "id": "8444647c-5c2a-49a4-840d-e44c96716a6d",
   "metadata": {},
   "outputs": [
    {
     "name": "stdout",
     "output_type": "stream",
     "text": [
      " Sure! Here's a very brief summary of the Declaration of Independence, written in HTML:\n",
      "\n",
      "<p>We, the people of the United States, declare our independence from Great Britain and assert our right to life, liberty, and the pursuit of happiness.</p>\n",
      "\n",
      "<p><em>Signed</em>, <a href=\"https://en.wikipedia.org/wiki/Thomas_Jefferson\">Thomas Jefferson</a>, July 4, 1776</p>"
     ]
    },
    {
     "data": {
      "text/plain": [
       "AIMessage(content=' Sure! Here\\'s a very brief summary of the Declaration of Independence, written in HTML:\\n\\n<p>We, the people of the United States, declare our independence from Great Britain and assert our right to life, liberty, and the pursuit of happiness.</p>\\n\\n<p><em>Signed</em>, <a href=\"https://en.wikipedia.org/wiki/Thomas_Jefferson\">Thomas Jefferson</a>, July 4, 1776</p>', additional_kwargs={}, example=False)"
      ]
     },
     "execution_count": 5,
     "metadata": {},
     "output_type": "execute_result"
    }
   ],
   "source": [
    "chat_model([\n",
    "    HumanMessage(content='Write me an extremely short summary of the declaration of independence, in HTML')\n",
    "])"
   ]
  },
  {
   "cell_type": "markdown",
   "id": "f4c8065c-7cc4-4c33-a5f4-e00d8d8a8dd0",
   "metadata": {},
   "source": [
    "## Output Prefix\n",
    "\n",
    "The LLM answered the question, but the first line was _not_ HTML. An \"output prefix\" is where you provide the first part of the expected output of the LLM. Here we're doing that with an `AIMessage` instance, but in other cases (and web interfaces) you can append the output prefix to the human input."
   ]
  },
  {
   "cell_type": "code",
   "execution_count": 9,
   "id": "527b18c3-735d-4a21-8f72-5ea789e4bc45",
   "metadata": {
    "scrolled": true
   },
   "outputs": [
    {
     "name": "stdout",
     "output_type": "stream",
     "text": [
      " &lt;div class=\"declaration\"&gt;\n",
      "We hold these truths to be self-evident, that all men are created equal, that they are endowed by their Creator with certain unalienable Rights, that among these are Life, Liberty and the pursuit of Happiness. &lt;/div&gt;"
     ]
    },
    {
     "data": {
      "text/plain": [
       "AIMessage(content=' &lt;div class=\"declaration\"&gt;\\nWe hold these truths to be self-evident, that all men are created equal, that they are endowed by their Creator with certain unalienable Rights, that among these are Life, Liberty and the pursuit of Happiness. &lt;/div&gt;', additional_kwargs={}, example=False)"
      ]
     },
     "execution_count": 9,
     "metadata": {},
     "output_type": "execute_result"
    }
   ],
   "source": [
    "chat_model([\n",
    "    HumanMessage(content='Write me an extremely short summary of the declaration of independence, in HTML.'),\n",
    "    AIMessage(content='<div>')\n",
    "])"
   ]
  },
  {
   "cell_type": "markdown",
   "id": "4960e774-0299-4ed3-ad21-98fce3cd2567",
   "metadata": {},
   "source": [
    "## System Prompt\n",
    "\n",
    "Another way to \"steer\" the output of an LLM is to provide a system prompt. They are essentially a prefix to the entire user interaction, and are intended to affect the behavior of the LLM at a higher level than the user conversation. \n",
    "\n",
    "LLaMA-based models and ChatGPT models respond very well to system prompts."
   ]
  },
  {
   "cell_type": "code",
   "execution_count": 12,
   "id": "78e82683-101d-46c3-82b1-5590834f2cb4",
   "metadata": {},
   "outputs": [
    {
     "name": "stdout",
     "output_type": "stream",
     "text": [
      " <p style=\"font-size:14px;\">🇺🇸 Declaration of Independence</p>\n",
      "\n",
      "<p style=\"margin-bottom:0;\">We hold these truths to be self-evident, that all men are created equal, that they are endowed by their Creator with certain unalienable Rights, that among these are Life, Liberty and the pursuit of Happiness.</p>\n",
      "\n",
      "<p style=\"font-size:14px;\">—<small>Thomas Jefferson, 1776</small></p>"
     ]
    },
    {
     "data": {
      "text/plain": [
       "AIMessage(content=' <p style=\"font-size:14px;\">🇺🇸 Declaration of Independence</p>\\n\\n<p style=\"margin-bottom:0;\">We hold these truths to be self-evident, that all men are created equal, that they are endowed by their Creator with certain unalienable Rights, that among these are Life, Liberty and the pursuit of Happiness.</p>\\n\\n<p style=\"font-size:14px;\">—<small>Thomas Jefferson, 1776</small></p>', additional_kwargs={}, example=False)"
      ]
     },
     "execution_count": 12,
     "metadata": {},
     "output_type": "execute_result"
    }
   ],
   "source": [
    "chat_model([\n",
    "    SystemMessage(content='You are HTMLBot. You will only respond in HTML.'),\n",
    "    HumanMessage(content='Write me an extremely short summary of the declaration of independence, in HTML.')\n",
    "])"
   ]
  }
 ],
 "metadata": {
  "kernelspec": {
   "display_name": "Python 3 (ipykernel)",
   "language": "python",
   "name": "python3"
  },
  "language_info": {
   "codemirror_mode": {
    "name": "ipython",
    "version": 3
   },
   "file_extension": ".py",
   "mimetype": "text/x-python",
   "name": "python",
   "nbconvert_exporter": "python",
   "pygments_lexer": "ipython3",
   "version": "3.11.4"
  }
 },
 "nbformat": 4,
 "nbformat_minor": 5
}
